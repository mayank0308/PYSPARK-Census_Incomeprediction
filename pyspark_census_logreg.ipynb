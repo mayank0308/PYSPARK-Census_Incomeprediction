{
 "cells": [
  {
   "cell_type": "code",
   "execution_count": 1,
   "metadata": {
    "collapsed": true
   },
   "outputs": [],
   "source": [
    "from pyspark import SparkContext\n",
    "sc = SparkContext(\"local\", \"First App\")"
   ]
  },
  {
   "cell_type": "code",
   "execution_count": 2,
   "metadata": {
    "collapsed": true
   },
   "outputs": [],
   "source": [
    "words = sc.parallelize (\n",
    "   [\"scala\", \n",
    "   \"java\", \n",
    "   \"hadoop\", \n",
    "   \"spark\", \n",
    "   \"akka\",\n",
    "   \"spark vs hadoop\", \n",
    "   \"pyspark\",\n",
    "   \"pyspark and spark\"]\n",
    ")"
   ]
  },
  {
   "cell_type": "code",
   "execution_count": 3,
   "metadata": {},
   "outputs": [
    {
     "name": "stdout",
     "output_type": "stream",
     "text": [
      "Number of elements in RDD -> 8\n"
     ]
    }
   ],
   "source": [
    "counts = words.count()\n",
    "print \"Number of elements in RDD -> %i\" % (counts)"
   ]
  },
  {
   "cell_type": "code",
   "execution_count": 4,
   "metadata": {},
   "outputs": [
    {
     "name": "stdout",
     "output_type": "stream",
     "text": [
      "Elements in RDD -> ['scala', 'java', 'hadoop', 'spark', 'akka', 'spark vs hadoop', 'pyspark', 'pyspark and spark']\n"
     ]
    }
   ],
   "source": [
    "coll = words.collect()\n",
    "print \"Elements in RDD -> %s\" % (coll)"
   ]
  },
  {
   "cell_type": "code",
   "execution_count": 3,
   "metadata": {},
   "outputs": [
    {
     "name": "stdout",
     "output_type": "stream",
     "text": [
      "+----+----------------+------+------------+-------------+------------------+-----------------+--------------+-----+------+------------+------------+--------------+--------------+------+\n",
      "| age|       workclass|fnlwgt|   education|education_num|    marital_status|       occupation|  relationship| race|   sex|capital_gain|capital_loss|hours_per_week|native_country|income|\n",
      "+----+----------------+------+------------+-------------+------------------+-----------------+--------------+-----+------+------------+------------+--------------+--------------+------+\n",
      "|null|       workclass|  null|   education|         null|    marital_status|       occupation|  relationship| race|   sex|        null|        null|          null|native_country|income|\n",
      "|  22|         Private|148187|        11th|            7|     Never-married|    Other-service|Other-relative|White|  Male|           0|           0|            40| United-States| <=50K|\n",
      "|  77|Self-emp-not-inc|138714|Some-college|           10|Married-civ-spouse|            Sales|       Husband|White|  Male|           0|           0|            40| United-States| <=50K|\n",
      "|  47|               ?|224108|     HS-grad|            9|           Widowed|                ?|     Unmarried|White|Female|           0|           0|            40| United-States| <=50K|\n",
      "|  23|         Private|314894|     HS-grad|            9|     Never-married|  Exec-managerial|     Own-child|White|Female|           0|           0|            45| United-States| <=50K|\n",
      "|  46|         Private|166181|Some-college|           10|     Never-married|     Adm-clerical|     Own-child|Black|Female|           0|           0|            36| United-States| <=50K|\n",
      "|  29|       State-gov|204516|     Masters|           14|Married-civ-spouse|   Prof-specialty|       Husband|White|  Male|           0|           0|            15| United-States| <=50K|\n",
      "|  35|         Private|407913|     HS-grad|            9|         Separated|    Other-service| Not-in-family|Black|  Male|           0|           0|            40| United-States| <=50K|\n",
      "|  28|         Private| 96219|   Bachelors|           13|Married-civ-spouse|    Other-service|          Wife|White|Female|           0|           0|            15| United-States| <=50K|\n",
      "|  58|    Self-emp-inc| 78104|     HS-grad|            9|Married-civ-spouse|  Exec-managerial|       Husband|White|  Male|           0|           0|            45| United-States| <=50K|\n",
      "|  19|               ?|252292|     HS-grad|            9|     Never-married|                ?|     Own-child|White|  Male|           0|           0|            40| United-States| <=50K|\n",
      "|  32|         Private|207668|     HS-grad|            9|Married-civ-spouse|     Craft-repair|       Husband|White|  Male|           0|           0|            50| United-States| <=50K|\n",
      "|  67|Self-emp-not-inc|191380| Prof-school|           15|Married-civ-spouse|   Prof-specialty|       Husband|White|  Male|       20051|           0|            25| United-States|  >50K|\n",
      "|  47|       State-gov| 80914|     Masters|           14|Married-civ-spouse|  Exec-managerial|       Husband|White|  Male|           0|           0|            47| United-States|  >50K|\n",
      "|  36|       Local-gov|241998|   Bachelors|           13|Married-civ-spouse|   Prof-specialty|       Husband|White|  Male|           0|        1672|            50| United-States| <=50K|\n",
      "|  29|         Private|227890|     HS-grad|            9|     Never-married|  Protective-serv|Other-relative|Black|  Male|           0|           0|            40| United-States| <=50K|\n",
      "|  26|     Federal-gov|276075|Some-college|           10|Married-civ-spouse|     Adm-clerical|       Husband|Black|  Male|           0|           0|            40| United-States| <=50K|\n",
      "|  17|Self-emp-not-inc| 36218|        11th|            7|     Never-married|  Farming-fishing|     Own-child|White|  Male|           0|           0|            20| United-States| <=50K|\n",
      "|  28|         Private|346406|     HS-grad|            9|Married-civ-spouse|Machine-op-inspct|       Husband|White|  Male|           0|        1672|            50| United-States| <=50K|\n",
      "|  37|         Private| 77820|   Bachelors|           13|Married-civ-spouse|  Exec-managerial|       Husband|White|  Male|           0|           0|            50| United-States|  >50K|\n",
      "+----+----------------+------+------------+-------------+------------------+-----------------+--------------+-----+------+------------+------------+--------------+--------------+------+\n",
      "only showing top 20 rows\n",
      "\n"
     ]
    }
   ],
   "source": [
    "from pyspark.sql import HiveContext\n",
    "hive_context = HiveContext(sc)\n",
    "census = hive_context.table(\"adult_census\")\n",
    "census.show()"
   ]
  },
  {
   "cell_type": "code",
   "execution_count": 4,
   "metadata": {},
   "outputs": [
    {
     "name": "stdout",
     "output_type": "stream",
     "text": [
      "+----+----------------+------+------------+-------------+------------------+-----------------+--------------+-----+------+------------+------------+--------------+--------------+------+\n",
      "| age|       workclass|fnlwgt|   education|education_num|    marital_status|       occupation|  relationship| race|   sex|capital_gain|capital_loss|hours_per_week|native_country|income|\n",
      "+----+----------------+------+------------+-------------+------------------+-----------------+--------------+-----+------+------------+------------+--------------+--------------+------+\n",
      "|null|       workclass|  null|   education|         null|    marital_status|       occupation|  relationship| race|   sex|        null|        null|          null|native_country|income|\n",
      "|  22|         Private|148187|        11th|            7|     Never-married|    Other-service|Other-relative|White|  Male|           0|           0|            40| United-States| <=50K|\n",
      "|  77|Self-emp-not-inc|138714|Some-college|           10|Married-civ-spouse|            Sales|       Husband|White|  Male|           0|           0|            40| United-States| <=50K|\n",
      "|  47|               ?|224108|     HS-grad|            9|           Widowed|                ?|     Unmarried|White|Female|           0|           0|            40| United-States| <=50K|\n",
      "|  23|         Private|314894|     HS-grad|            9|     Never-married|  Exec-managerial|     Own-child|White|Female|           0|           0|            45| United-States| <=50K|\n",
      "|  46|         Private|166181|Some-college|           10|     Never-married|     Adm-clerical|     Own-child|Black|Female|           0|           0|            36| United-States| <=50K|\n",
      "|  29|       State-gov|204516|     Masters|           14|Married-civ-spouse|   Prof-specialty|       Husband|White|  Male|           0|           0|            15| United-States| <=50K|\n",
      "|  35|         Private|407913|     HS-grad|            9|         Separated|    Other-service| Not-in-family|Black|  Male|           0|           0|            40| United-States| <=50K|\n",
      "|  28|         Private| 96219|   Bachelors|           13|Married-civ-spouse|    Other-service|          Wife|White|Female|           0|           0|            15| United-States| <=50K|\n",
      "|  58|    Self-emp-inc| 78104|     HS-grad|            9|Married-civ-spouse|  Exec-managerial|       Husband|White|  Male|           0|           0|            45| United-States| <=50K|\n",
      "|  19|               ?|252292|     HS-grad|            9|     Never-married|                ?|     Own-child|White|  Male|           0|           0|            40| United-States| <=50K|\n",
      "|  32|         Private|207668|     HS-grad|            9|Married-civ-spouse|     Craft-repair|       Husband|White|  Male|           0|           0|            50| United-States| <=50K|\n",
      "|  67|Self-emp-not-inc|191380| Prof-school|           15|Married-civ-spouse|   Prof-specialty|       Husband|White|  Male|       20051|           0|            25| United-States|  >50K|\n",
      "|  47|       State-gov| 80914|     Masters|           14|Married-civ-spouse|  Exec-managerial|       Husband|White|  Male|           0|           0|            47| United-States|  >50K|\n",
      "|  36|       Local-gov|241998|   Bachelors|           13|Married-civ-spouse|   Prof-specialty|       Husband|White|  Male|           0|        1672|            50| United-States| <=50K|\n",
      "|  29|         Private|227890|     HS-grad|            9|     Never-married|  Protective-serv|Other-relative|Black|  Male|           0|           0|            40| United-States| <=50K|\n",
      "|  26|     Federal-gov|276075|Some-college|           10|Married-civ-spouse|     Adm-clerical|       Husband|Black|  Male|           0|           0|            40| United-States| <=50K|\n",
      "|  17|Self-emp-not-inc| 36218|        11th|            7|     Never-married|  Farming-fishing|     Own-child|White|  Male|           0|           0|            20| United-States| <=50K|\n",
      "|  28|         Private|346406|     HS-grad|            9|Married-civ-spouse|Machine-op-inspct|       Husband|White|  Male|           0|        1672|            50| United-States| <=50K|\n",
      "|  37|         Private| 77820|   Bachelors|           13|Married-civ-spouse|  Exec-managerial|       Husband|White|  Male|           0|           0|            50| United-States|  >50K|\n",
      "+----+----------------+------+------------+-------------+------------------+-----------------+--------------+-----+------+------------+------------+--------------+--------------+------+\n",
      "only showing top 20 rows\n",
      "\n"
     ]
    }
   ],
   "source": [
    "census.registerTempTable(\"census_temp\")\n",
    "hive_context.sql(\"select * from census_temp\").show()"
   ]
  },
  {
   "cell_type": "code",
   "execution_count": 5,
   "metadata": {},
   "outputs": [
    {
     "name": "stdout",
     "output_type": "stream",
     "text": [
      "+-----+\n",
      "| race|\n",
      "+-----+\n",
      "| race|\n",
      "|White|\n",
      "|White|\n",
      "|White|\n",
      "|White|\n",
      "|Black|\n",
      "|White|\n",
      "|Black|\n",
      "|White|\n",
      "|White|\n",
      "|White|\n",
      "|White|\n",
      "|White|\n",
      "|White|\n",
      "|White|\n",
      "|Black|\n",
      "|Black|\n",
      "|White|\n",
      "|White|\n",
      "|White|\n",
      "+-----+\n",
      "only showing top 20 rows\n",
      "\n"
     ]
    }
   ],
   "source": [
    "hive_context.sql(\"select race from census_temp\").show()"
   ]
  },
  {
   "cell_type": "code",
   "execution_count": 72,
   "metadata": {},
   "outputs": [],
   "source": [
    "from pyspark.sql import SQLContext"
   ]
  },
  {
   "cell_type": "code",
   "execution_count": 73,
   "metadata": {},
   "outputs": [],
   "source": [
    "sql_context=SQLContext(sc)"
   ]
  },
  {
   "cell_type": "code",
   "execution_count": 74,
   "metadata": {},
   "outputs": [],
   "source": [
    "df = sql_context.sql(\"SELECT * FROM adult_census\")"
   ]
  },
  {
   "cell_type": "code",
   "execution_count": 75,
   "metadata": {},
   "outputs": [
    {
     "name": "stdout",
     "output_type": "stream",
     "text": [
      "+----+----------------+------+------------+-------------+------------------+-----------------+--------------+-----+------+------------+------------+--------------+--------------+------+\n",
      "| age|       workclass|fnlwgt|   education|education_num|    marital_status|       occupation|  relationship| race|   sex|capital_gain|capital_loss|hours_per_week|native_country|income|\n",
      "+----+----------------+------+------------+-------------+------------------+-----------------+--------------+-----+------+------------+------------+--------------+--------------+------+\n",
      "|null|       workclass|  null|   education|         null|    marital_status|       occupation|  relationship| race|   sex|        null|        null|          null|native_country|income|\n",
      "|  22|         Private|148187|        11th|            7|     Never-married|    Other-service|Other-relative|White|  Male|           0|           0|            40| United-States| <=50K|\n",
      "|  77|Self-emp-not-inc|138714|Some-college|           10|Married-civ-spouse|            Sales|       Husband|White|  Male|           0|           0|            40| United-States| <=50K|\n",
      "|  47|               ?|224108|     HS-grad|            9|           Widowed|                ?|     Unmarried|White|Female|           0|           0|            40| United-States| <=50K|\n",
      "|  23|         Private|314894|     HS-grad|            9|     Never-married|  Exec-managerial|     Own-child|White|Female|           0|           0|            45| United-States| <=50K|\n",
      "|  46|         Private|166181|Some-college|           10|     Never-married|     Adm-clerical|     Own-child|Black|Female|           0|           0|            36| United-States| <=50K|\n",
      "|  29|       State-gov|204516|     Masters|           14|Married-civ-spouse|   Prof-specialty|       Husband|White|  Male|           0|           0|            15| United-States| <=50K|\n",
      "|  35|         Private|407913|     HS-grad|            9|         Separated|    Other-service| Not-in-family|Black|  Male|           0|           0|            40| United-States| <=50K|\n",
      "|  28|         Private| 96219|   Bachelors|           13|Married-civ-spouse|    Other-service|          Wife|White|Female|           0|           0|            15| United-States| <=50K|\n",
      "|  58|    Self-emp-inc| 78104|     HS-grad|            9|Married-civ-spouse|  Exec-managerial|       Husband|White|  Male|           0|           0|            45| United-States| <=50K|\n",
      "|  19|               ?|252292|     HS-grad|            9|     Never-married|                ?|     Own-child|White|  Male|           0|           0|            40| United-States| <=50K|\n",
      "|  32|         Private|207668|     HS-grad|            9|Married-civ-spouse|     Craft-repair|       Husband|White|  Male|           0|           0|            50| United-States| <=50K|\n",
      "|  67|Self-emp-not-inc|191380| Prof-school|           15|Married-civ-spouse|   Prof-specialty|       Husband|White|  Male|       20051|           0|            25| United-States|  >50K|\n",
      "|  47|       State-gov| 80914|     Masters|           14|Married-civ-spouse|  Exec-managerial|       Husband|White|  Male|           0|           0|            47| United-States|  >50K|\n",
      "|  36|       Local-gov|241998|   Bachelors|           13|Married-civ-spouse|   Prof-specialty|       Husband|White|  Male|           0|        1672|            50| United-States| <=50K|\n",
      "|  29|         Private|227890|     HS-grad|            9|     Never-married|  Protective-serv|Other-relative|Black|  Male|           0|           0|            40| United-States| <=50K|\n",
      "|  26|     Federal-gov|276075|Some-college|           10|Married-civ-spouse|     Adm-clerical|       Husband|Black|  Male|           0|           0|            40| United-States| <=50K|\n",
      "|  17|Self-emp-not-inc| 36218|        11th|            7|     Never-married|  Farming-fishing|     Own-child|White|  Male|           0|           0|            20| United-States| <=50K|\n",
      "|  28|         Private|346406|     HS-grad|            9|Married-civ-spouse|Machine-op-inspct|       Husband|White|  Male|           0|        1672|            50| United-States| <=50K|\n",
      "|  37|         Private| 77820|   Bachelors|           13|Married-civ-spouse|  Exec-managerial|       Husband|White|  Male|           0|           0|            50| United-States|  >50K|\n",
      "+----+----------------+------+------------+-------------+------------------+-----------------+--------------+-----+------+------------+------------+--------------+--------------+------+\n",
      "only showing top 20 rows\n",
      "\n"
     ]
    }
   ],
   "source": [
    "df.show()"
   ]
  },
  {
   "cell_type": "code",
   "execution_count": 76,
   "metadata": {},
   "outputs": [
    {
     "name": "stdout",
     "output_type": "stream",
     "text": [
      "root\n",
      " |-- age: integer (nullable = true)\n",
      " |-- workclass: string (nullable = true)\n",
      " |-- fnlwgt: integer (nullable = true)\n",
      " |-- education: string (nullable = true)\n",
      " |-- education_num: integer (nullable = true)\n",
      " |-- marital_status: string (nullable = true)\n",
      " |-- occupation: string (nullable = true)\n",
      " |-- relationship: string (nullable = true)\n",
      " |-- race: string (nullable = true)\n",
      " |-- sex: string (nullable = true)\n",
      " |-- capital_gain: integer (nullable = true)\n",
      " |-- capital_loss: integer (nullable = true)\n",
      " |-- hours_per_week: integer (nullable = true)\n",
      " |-- native_country: string (nullable = true)\n",
      " |-- income: string (nullable = true)\n",
      "\n"
     ]
    }
   ],
   "source": [
    "df.printSchema()"
   ]
  },
  {
   "cell_type": "code",
   "execution_count": 77,
   "metadata": {},
   "outputs": [
    {
     "name": "stdout",
     "output_type": "stream",
     "text": [
      "+------------------+\n",
      "|    marital_status|\n",
      "+------------------+\n",
      "|    marital_status|\n",
      "|     Never-married|\n",
      "|Married-civ-spouse|\n",
      "|           Widowed|\n",
      "|     Never-married|\n",
      "|     Never-married|\n",
      "|Married-civ-spouse|\n",
      "|         Separated|\n",
      "|Married-civ-spouse|\n",
      "|Married-civ-spouse|\n",
      "|     Never-married|\n",
      "|Married-civ-spouse|\n",
      "|Married-civ-spouse|\n",
      "|Married-civ-spouse|\n",
      "|Married-civ-spouse|\n",
      "|     Never-married|\n",
      "|Married-civ-spouse|\n",
      "|     Never-married|\n",
      "|Married-civ-spouse|\n",
      "|Married-civ-spouse|\n",
      "+------------------+\n",
      "only showing top 20 rows\n",
      "\n"
     ]
    }
   ],
   "source": [
    "df.select('marital_status').show()"
   ]
  },
  {
   "cell_type": "code",
   "execution_count": 78,
   "metadata": {},
   "outputs": [],
   "source": [
    "from pyspark.ml.linalg import Vectors\n",
    "from pyspark.ml.feature import VectorAssembler\n",
    "from pyspark.ml.classification import LogisticRegression"
   ]
  },
  {
   "cell_type": "code",
   "execution_count": 79,
   "metadata": {},
   "outputs": [],
   "source": [
    "from pyspark.ml.feature import StringIndexer"
   ]
  },
  {
   "cell_type": "code",
   "execution_count": 80,
   "metadata": {},
   "outputs": [
    {
     "name": "stdout",
     "output_type": "stream",
     "text": [
      "+----+----------------+------+------------+-------------+------------------+-----------------+--------------+-----+------+------------+------------+--------------+--------------+------+---+\n",
      "| age|       workclass|fnlwgt|   education|education_num|    marital_status|       occupation|  relationship| race|   sex|capital_gain|capital_loss|hours_per_week|native_country|income|MSI|\n",
      "+----+----------------+------+------------+-------------+------------------+-----------------+--------------+-----+------+------------+------------+--------------+--------------+------+---+\n",
      "|null|       workclass|  null|   education|         null|    marital_status|       occupation|  relationship| race|   sex|        null|        null|          null|native_country|income|7.0|\n",
      "|  22|         Private|148187|        11th|            7|     Never-married|    Other-service|Other-relative|White|  Male|           0|           0|            40| United-States| <=50K|1.0|\n",
      "|  77|Self-emp-not-inc|138714|Some-college|           10|Married-civ-spouse|            Sales|       Husband|White|  Male|           0|           0|            40| United-States| <=50K|0.0|\n",
      "|  47|               ?|224108|     HS-grad|            9|           Widowed|                ?|     Unmarried|White|Female|           0|           0|            40| United-States| <=50K|4.0|\n",
      "|  23|         Private|314894|     HS-grad|            9|     Never-married|  Exec-managerial|     Own-child|White|Female|           0|           0|            45| United-States| <=50K|1.0|\n",
      "|  46|         Private|166181|Some-college|           10|     Never-married|     Adm-clerical|     Own-child|Black|Female|           0|           0|            36| United-States| <=50K|1.0|\n",
      "|  29|       State-gov|204516|     Masters|           14|Married-civ-spouse|   Prof-specialty|       Husband|White|  Male|           0|           0|            15| United-States| <=50K|0.0|\n",
      "|  35|         Private|407913|     HS-grad|            9|         Separated|    Other-service| Not-in-family|Black|  Male|           0|           0|            40| United-States| <=50K|3.0|\n",
      "|  28|         Private| 96219|   Bachelors|           13|Married-civ-spouse|    Other-service|          Wife|White|Female|           0|           0|            15| United-States| <=50K|0.0|\n",
      "|  58|    Self-emp-inc| 78104|     HS-grad|            9|Married-civ-spouse|  Exec-managerial|       Husband|White|  Male|           0|           0|            45| United-States| <=50K|0.0|\n",
      "|  19|               ?|252292|     HS-grad|            9|     Never-married|                ?|     Own-child|White|  Male|           0|           0|            40| United-States| <=50K|1.0|\n",
      "|  32|         Private|207668|     HS-grad|            9|Married-civ-spouse|     Craft-repair|       Husband|White|  Male|           0|           0|            50| United-States| <=50K|0.0|\n",
      "|  67|Self-emp-not-inc|191380| Prof-school|           15|Married-civ-spouse|   Prof-specialty|       Husband|White|  Male|       20051|           0|            25| United-States|  >50K|0.0|\n",
      "|  47|       State-gov| 80914|     Masters|           14|Married-civ-spouse|  Exec-managerial|       Husband|White|  Male|           0|           0|            47| United-States|  >50K|0.0|\n",
      "|  36|       Local-gov|241998|   Bachelors|           13|Married-civ-spouse|   Prof-specialty|       Husband|White|  Male|           0|        1672|            50| United-States| <=50K|0.0|\n",
      "|  29|         Private|227890|     HS-grad|            9|     Never-married|  Protective-serv|Other-relative|Black|  Male|           0|           0|            40| United-States| <=50K|1.0|\n",
      "|  26|     Federal-gov|276075|Some-college|           10|Married-civ-spouse|     Adm-clerical|       Husband|Black|  Male|           0|           0|            40| United-States| <=50K|0.0|\n",
      "|  17|Self-emp-not-inc| 36218|        11th|            7|     Never-married|  Farming-fishing|     Own-child|White|  Male|           0|           0|            20| United-States| <=50K|1.0|\n",
      "|  28|         Private|346406|     HS-grad|            9|Married-civ-spouse|Machine-op-inspct|       Husband|White|  Male|           0|        1672|            50| United-States| <=50K|0.0|\n",
      "|  37|         Private| 77820|   Bachelors|           13|Married-civ-spouse|  Exec-managerial|       Husband|White|  Male|           0|           0|            50| United-States|  >50K|0.0|\n",
      "+----+----------------+------+------------+-------------+------------------+-----------------+--------------+-----+------+------------+------------+--------------+--------------+------+---+\n",
      "only showing top 20 rows\n",
      "\n"
     ]
    }
   ],
   "source": [
    "indexer = StringIndexer(inputCol = 'marital_status', outputCol = 'MSI')\n",
    "indexed_df = indexer.fit(df).transform(df)\n",
    "indexed_df.show()"
   ]
  },
  {
   "cell_type": "code",
   "execution_count": 81,
   "metadata": {},
   "outputs": [
    {
     "name": "stdout",
     "output_type": "stream",
     "text": [
      "+----------------+\n",
      "|       workclass|\n",
      "+----------------+\n",
      "|       workclass|\n",
      "|         Private|\n",
      "|Self-emp-not-inc|\n",
      "|               ?|\n",
      "|         Private|\n",
      "|         Private|\n",
      "|       State-gov|\n",
      "|         Private|\n",
      "|         Private|\n",
      "|    Self-emp-inc|\n",
      "|               ?|\n",
      "|         Private|\n",
      "|Self-emp-not-inc|\n",
      "|       State-gov|\n",
      "|       Local-gov|\n",
      "|         Private|\n",
      "|     Federal-gov|\n",
      "|Self-emp-not-inc|\n",
      "|         Private|\n",
      "|         Private|\n",
      "+----------------+\n",
      "only showing top 20 rows\n",
      "\n"
     ]
    }
   ],
   "source": [
    "indexed_df.select('workclass').show()"
   ]
  },
  {
   "cell_type": "code",
   "execution_count": 82,
   "metadata": {},
   "outputs": [
    {
     "name": "stdout",
     "output_type": "stream",
     "text": [
      "+----+----------------+------+------------+-------------+------------------+-----------------+--------------+-----+------+------------+------------+--------------+--------------+------+---+---+\n",
      "| age|       workclass|fnlwgt|   education|education_num|    marital_status|       occupation|  relationship| race|   sex|capital_gain|capital_loss|hours_per_week|native_country|income|MSI|WCI|\n",
      "+----+----------------+------+------------+-------------+------------------+-----------------+--------------+-----+------+------------+------------+--------------+--------------+------+---+---+\n",
      "|null|       workclass|  null|   education|         null|    marital_status|       occupation|  relationship| race|   sex|        null|        null|          null|native_country|income|7.0|9.0|\n",
      "|  22|         Private|148187|        11th|            7|     Never-married|    Other-service|Other-relative|White|  Male|           0|           0|            40| United-States| <=50K|1.0|0.0|\n",
      "|  77|Self-emp-not-inc|138714|Some-college|           10|Married-civ-spouse|            Sales|       Husband|White|  Male|           0|           0|            40| United-States| <=50K|0.0|1.0|\n",
      "|  47|               ?|224108|     HS-grad|            9|           Widowed|                ?|     Unmarried|White|Female|           0|           0|            40| United-States| <=50K|4.0|3.0|\n",
      "|  23|         Private|314894|     HS-grad|            9|     Never-married|  Exec-managerial|     Own-child|White|Female|           0|           0|            45| United-States| <=50K|1.0|0.0|\n",
      "|  46|         Private|166181|Some-college|           10|     Never-married|     Adm-clerical|     Own-child|Black|Female|           0|           0|            36| United-States| <=50K|1.0|0.0|\n",
      "|  29|       State-gov|204516|     Masters|           14|Married-civ-spouse|   Prof-specialty|       Husband|White|  Male|           0|           0|            15| United-States| <=50K|0.0|4.0|\n",
      "|  35|         Private|407913|     HS-grad|            9|         Separated|    Other-service| Not-in-family|Black|  Male|           0|           0|            40| United-States| <=50K|3.0|0.0|\n",
      "|  28|         Private| 96219|   Bachelors|           13|Married-civ-spouse|    Other-service|          Wife|White|Female|           0|           0|            15| United-States| <=50K|0.0|0.0|\n",
      "|  58|    Self-emp-inc| 78104|     HS-grad|            9|Married-civ-spouse|  Exec-managerial|       Husband|White|  Male|           0|           0|            45| United-States| <=50K|0.0|5.0|\n",
      "|  19|               ?|252292|     HS-grad|            9|     Never-married|                ?|     Own-child|White|  Male|           0|           0|            40| United-States| <=50K|1.0|3.0|\n",
      "|  32|         Private|207668|     HS-grad|            9|Married-civ-spouse|     Craft-repair|       Husband|White|  Male|           0|           0|            50| United-States| <=50K|0.0|0.0|\n",
      "|  67|Self-emp-not-inc|191380| Prof-school|           15|Married-civ-spouse|   Prof-specialty|       Husband|White|  Male|       20051|           0|            25| United-States|  >50K|0.0|1.0|\n",
      "|  47|       State-gov| 80914|     Masters|           14|Married-civ-spouse|  Exec-managerial|       Husband|White|  Male|           0|           0|            47| United-States|  >50K|0.0|4.0|\n",
      "|  36|       Local-gov|241998|   Bachelors|           13|Married-civ-spouse|   Prof-specialty|       Husband|White|  Male|           0|        1672|            50| United-States| <=50K|0.0|2.0|\n",
      "|  29|         Private|227890|     HS-grad|            9|     Never-married|  Protective-serv|Other-relative|Black|  Male|           0|           0|            40| United-States| <=50K|1.0|0.0|\n",
      "|  26|     Federal-gov|276075|Some-college|           10|Married-civ-spouse|     Adm-clerical|       Husband|Black|  Male|           0|           0|            40| United-States| <=50K|0.0|6.0|\n",
      "|  17|Self-emp-not-inc| 36218|        11th|            7|     Never-married|  Farming-fishing|     Own-child|White|  Male|           0|           0|            20| United-States| <=50K|1.0|1.0|\n",
      "|  28|         Private|346406|     HS-grad|            9|Married-civ-spouse|Machine-op-inspct|       Husband|White|  Male|           0|        1672|            50| United-States| <=50K|0.0|0.0|\n",
      "|  37|         Private| 77820|   Bachelors|           13|Married-civ-spouse|  Exec-managerial|       Husband|White|  Male|           0|           0|            50| United-States|  >50K|0.0|0.0|\n",
      "+----+----------------+------+------------+-------------+------------------+-----------------+--------------+-----+------+------------+------------+--------------+--------------+------+---+---+\n",
      "only showing top 20 rows\n",
      "\n"
     ]
    }
   ],
   "source": [
    "indexer = StringIndexer(inputCol = 'workclass', outputCol = 'WCI')\n",
    "indexed_df = indexer.fit(indexed_df).transform(indexed_df)\n",
    "indexed_df.show()"
   ]
  },
  {
   "cell_type": "code",
   "execution_count": 83,
   "metadata": {},
   "outputs": [
    {
     "name": "stdout",
     "output_type": "stream",
     "text": [
      "+----+\n",
      "| OCI|\n",
      "+----+\n",
      "|15.0|\n",
      "| 5.0|\n",
      "| 4.0|\n",
      "| 7.0|\n",
      "| 2.0|\n",
      "| 3.0|\n",
      "| 1.0|\n",
      "| 5.0|\n",
      "| 5.0|\n",
      "| 2.0|\n",
      "| 7.0|\n",
      "| 0.0|\n",
      "| 1.0|\n",
      "| 2.0|\n",
      "| 1.0|\n",
      "|12.0|\n",
      "| 3.0|\n",
      "|10.0|\n",
      "| 6.0|\n",
      "| 2.0|\n",
      "+----+\n",
      "only showing top 20 rows\n",
      "\n"
     ]
    }
   ],
   "source": [
    "indexer = StringIndexer(inputCol = 'occupation', outputCol = 'OCI')\n",
    "indexed_df = indexer.fit(indexed_df).transform(indexed_df)\n",
    "indexed_df.select('OCI').show()"
   ]
  },
  {
   "cell_type": "code",
   "execution_count": 84,
   "metadata": {},
   "outputs": [
    {
     "name": "stdout",
     "output_type": "stream",
     "text": [
      "+---+\n",
      "|RLI|\n",
      "+---+\n",
      "|6.0|\n",
      "|5.0|\n",
      "|0.0|\n",
      "|3.0|\n",
      "|2.0|\n",
      "|2.0|\n",
      "|0.0|\n",
      "|1.0|\n",
      "|4.0|\n",
      "|0.0|\n",
      "|2.0|\n",
      "|0.0|\n",
      "|0.0|\n",
      "|0.0|\n",
      "|0.0|\n",
      "|5.0|\n",
      "|0.0|\n",
      "|2.0|\n",
      "|0.0|\n",
      "|0.0|\n",
      "+---+\n",
      "only showing top 20 rows\n",
      "\n"
     ]
    }
   ],
   "source": [
    "indexer = StringIndexer(inputCol = 'relationship', outputCol = 'RLI')\n",
    "indexed_df = indexer.fit(indexed_df).transform(indexed_df)\n",
    "indexed_df.select('RLI').show()"
   ]
  },
  {
   "cell_type": "code",
   "execution_count": 85,
   "metadata": {},
   "outputs": [
    {
     "name": "stdout",
     "output_type": "stream",
     "text": [
      "+---+\n",
      "|ICI|\n",
      "+---+\n",
      "|2.0|\n",
      "|0.0|\n",
      "|0.0|\n",
      "|0.0|\n",
      "|0.0|\n",
      "|0.0|\n",
      "|0.0|\n",
      "|0.0|\n",
      "|0.0|\n",
      "|0.0|\n",
      "|0.0|\n",
      "|0.0|\n",
      "|1.0|\n",
      "|1.0|\n",
      "|0.0|\n",
      "|0.0|\n",
      "|0.0|\n",
      "|0.0|\n",
      "|0.0|\n",
      "|1.0|\n",
      "+---+\n",
      "only showing top 20 rows\n",
      "\n"
     ]
    }
   ],
   "source": [
    "indexer = StringIndexer(inputCol = 'income', outputCol = 'ICI')\n",
    "indexed_df = indexer.fit(indexed_df).transform(indexed_df)\n",
    "indexed_df.select('ICI').show()"
   ]
  },
  {
   "cell_type": "code",
   "execution_count": 86,
   "metadata": {},
   "outputs": [
    {
     "name": "stdout",
     "output_type": "stream",
     "text": [
      "+--------------+\n",
      "|hours_per_week|\n",
      "+--------------+\n",
      "|          null|\n",
      "|            40|\n",
      "|            40|\n",
      "|            40|\n",
      "|            45|\n",
      "|            36|\n",
      "|            15|\n",
      "|            40|\n",
      "|            15|\n",
      "|            45|\n",
      "|            40|\n",
      "|            50|\n",
      "|            25|\n",
      "|            47|\n",
      "|            50|\n",
      "|            40|\n",
      "|            40|\n",
      "|            20|\n",
      "|            50|\n",
      "|            50|\n",
      "+--------------+\n",
      "only showing top 20 rows\n",
      "\n"
     ]
    }
   ],
   "source": [
    "indexed_df.select('hours_per_week').show()"
   ]
  },
  {
   "cell_type": "code",
   "execution_count": 87,
   "metadata": {},
   "outputs": [],
   "source": [
    "indexed_df2 = indexed_df.na.drop(how='any')"
   ]
  },
  {
   "cell_type": "code",
   "execution_count": 88,
   "metadata": {},
   "outputs": [
    {
     "name": "stdout",
     "output_type": "stream",
     "text": [
      "root\n",
      " |-- age: integer (nullable = true)\n",
      " |-- workclass: string (nullable = true)\n",
      " |-- fnlwgt: integer (nullable = true)\n",
      " |-- education: string (nullable = true)\n",
      " |-- education_num: integer (nullable = true)\n",
      " |-- marital_status: string (nullable = true)\n",
      " |-- occupation: string (nullable = true)\n",
      " |-- relationship: string (nullable = true)\n",
      " |-- race: string (nullable = true)\n",
      " |-- sex: string (nullable = true)\n",
      " |-- capital_gain: integer (nullable = true)\n",
      " |-- capital_loss: integer (nullable = true)\n",
      " |-- hours_per_week: integer (nullable = true)\n",
      " |-- native_country: string (nullable = true)\n",
      " |-- income: string (nullable = true)\n",
      " |-- MSI: double (nullable = true)\n",
      " |-- WCI: double (nullable = true)\n",
      " |-- OCI: double (nullable = true)\n",
      " |-- RLI: double (nullable = true)\n",
      " |-- ICI: double (nullable = true)\n",
      "\n"
     ]
    }
   ],
   "source": [
    "indexed_df2.printSchema()"
   ]
  },
  {
   "cell_type": "code",
   "execution_count": 89,
   "metadata": {
    "collapsed": true
   },
   "outputs": [],
   "source": [
    "featureassembler = VectorAssembler(inputCols=['age','WCI','education_num','MSI','OCI','RLI','hours_per_week'],\n",
    "                                  outputCol='Independent Features')"
   ]
  },
  {
   "cell_type": "code",
   "execution_count": 90,
   "metadata": {},
   "outputs": [],
   "source": [
    "output = featureassembler.transform(indexed_df2)"
   ]
  },
  {
   "cell_type": "code",
   "execution_count": 91,
   "metadata": {},
   "outputs": [
    {
     "name": "stdout",
     "output_type": "stream",
     "text": [
      "root\n",
      " |-- age: integer (nullable = true)\n",
      " |-- workclass: string (nullable = true)\n",
      " |-- fnlwgt: integer (nullable = true)\n",
      " |-- education: string (nullable = true)\n",
      " |-- education_num: integer (nullable = true)\n",
      " |-- marital_status: string (nullable = true)\n",
      " |-- occupation: string (nullable = true)\n",
      " |-- relationship: string (nullable = true)\n",
      " |-- race: string (nullable = true)\n",
      " |-- sex: string (nullable = true)\n",
      " |-- capital_gain: integer (nullable = true)\n",
      " |-- capital_loss: integer (nullable = true)\n",
      " |-- hours_per_week: integer (nullable = true)\n",
      " |-- native_country: string (nullable = true)\n",
      " |-- income: string (nullable = true)\n",
      " |-- MSI: double (nullable = true)\n",
      " |-- WCI: double (nullable = true)\n",
      " |-- OCI: double (nullable = true)\n",
      " |-- RLI: double (nullable = true)\n",
      " |-- ICI: double (nullable = true)\n",
      "\n"
     ]
    }
   ],
   "source": [
    "indexed_df2.printSchema()"
   ]
  },
  {
   "cell_type": "code",
   "execution_count": 92,
   "metadata": {
    "collapsed": true
   },
   "outputs": [],
   "source": [
    "finalized_data = output.select('Independent Features','ICI')"
   ]
  },
  {
   "cell_type": "code",
   "execution_count": 93,
   "metadata": {},
   "outputs": [
    {
     "name": "stdout",
     "output_type": "stream",
     "text": [
      "+--------------------+---+\n",
      "|Independent Features|ICI|\n",
      "+--------------------+---+\n",
      "|[22.0,0.0,7.0,1.0...|0.0|\n",
      "|[77.0,1.0,10.0,0....|0.0|\n",
      "|[47.0,3.0,9.0,4.0...|0.0|\n",
      "|[23.0,0.0,9.0,1.0...|0.0|\n",
      "|[46.0,0.0,10.0,1....|0.0|\n",
      "|[29.0,4.0,14.0,0....|0.0|\n",
      "|[35.0,0.0,9.0,3.0...|0.0|\n",
      "|[28.0,0.0,13.0,0....|0.0|\n",
      "|[58.0,5.0,9.0,0.0...|0.0|\n",
      "|[19.0,3.0,9.0,1.0...|0.0|\n",
      "|(7,[0,2,6],[32.0,...|0.0|\n",
      "|[67.0,1.0,15.0,0....|1.0|\n",
      "|[47.0,4.0,14.0,0....|1.0|\n",
      "|[36.0,2.0,13.0,0....|0.0|\n",
      "|[29.0,0.0,9.0,1.0...|0.0|\n",
      "|[26.0,6.0,10.0,0....|0.0|\n",
      "|[17.0,1.0,7.0,1.0...|0.0|\n",
      "|[28.0,0.0,9.0,0.0...|0.0|\n",
      "|[37.0,0.0,13.0,0....|1.0|\n",
      "|[60.0,3.0,9.0,0.0...|1.0|\n",
      "+--------------------+---+\n",
      "only showing top 20 rows\n",
      "\n"
     ]
    }
   ],
   "source": [
    "finalized_data.show()"
   ]
  },
  {
   "cell_type": "code",
   "execution_count": 101,
   "metadata": {
    "collapsed": true
   },
   "outputs": [],
   "source": [
    "train_data,test_data = finalized_data.randomSplit([.75,.25])"
   ]
  },
  {
   "cell_type": "code",
   "execution_count": 102,
   "metadata": {
    "collapsed": true
   },
   "outputs": [],
   "source": [
    "regressor = LogisticRegression(featuresCol = 'Independent Features',labelCol='ICI')"
   ]
  },
  {
   "cell_type": "code",
   "execution_count": 103,
   "metadata": {
    "collapsed": true
   },
   "outputs": [],
   "source": [
    "fit_model = regressor.fit(train_data)\n",
    "results = fit_model.transform(test_data)"
   ]
  },
  {
   "cell_type": "code",
   "execution_count": 105,
   "metadata": {},
   "outputs": [
    {
     "name": "stdout",
     "output_type": "stream",
     "text": [
      "('AUC score is : ', 0.7003983987957225)\n"
     ]
    }
   ],
   "source": [
    "from pyspark.ml.evaluation import BinaryClassificationEvaluator\n",
    "my_eval = BinaryClassificationEvaluator(rawPredictionCol='prediction',\n",
    "                                       labelCol='ICI')\n",
    "results.select('ICI','prediction')\n",
    "AUC = my_eval.evaluate(results)\n",
    "print(\"AUC score is : \",AUC)"
   ]
  },
  {
   "cell_type": "code",
   "execution_count": null,
   "metadata": {
    "collapsed": true
   },
   "outputs": [],
   "source": []
  }
 ],
 "metadata": {
  "kernelspec": {
   "display_name": "PySpark",
   "language": "python",
   "name": "pyspark"
  },
  "language_info": {
   "codemirror_mode": {
    "name": "ipython",
    "version": 2
   },
   "file_extension": ".py",
   "mimetype": "text/x-python",
   "name": "python",
   "nbconvert_exporter": "python",
   "pygments_lexer": "ipython2",
   "version": "2.7.14"
  }
 },
 "nbformat": 4,
 "nbformat_minor": 2
}
